{
 "cells": [
  {
   "cell_type": "markdown",
   "id": "a7e3e3b4",
   "metadata": {},
   "source": [
    "1. Write a program to take 10 input from the user, store it in list and print it.\n",
    "           Input Example:\n",
    "              a = input(\"Enter Number:\")\n"
   ]
  },
  {
   "cell_type": "code",
   "execution_count": 1,
   "id": "da920e5b",
   "metadata": {
    "collapsed": true
   },
   "outputs": [
    {
     "name": "stdout",
     "output_type": "stream",
     "text": [
      "enter number:5\n",
      "enter number:5\n",
      "enter number:5\n",
      "enter number:5\n",
      "enter number:4\n",
      "enter number:4\n",
      "enter number:5\n",
      "enter number:6\n",
      "enter number:7\n",
      "enter number:8\n",
      "['5', '5', '5', '5', '4', '4', '5', '6', '7', '8']\n"
     ]
    }
   ],
   "source": [
    "lists=[]\n",
    "for a in range(10):\n",
    "    a=input(\"enter number:\")\n",
    "    lists.append(a)\n",
    "print(lists)"
   ]
  },
  {
   "cell_type": "markdown",
   "id": "db93d90a",
   "metadata": {},
   "source": [
    "2. Create a dictionary of 5 records where keys are Name, Age, College Name and define value of your own and print it.\n"
   ]
  },
  {
   "cell_type": "code",
   "execution_count": 2,
   "id": "b9cbcfa8",
   "metadata": {},
   "outputs": [
    {
     "name": "stdout",
     "output_type": "stream",
     "text": [
      "[{'Name': 'vishal', 'Age': 20, ' College Name': 'AGCE'}, {'Name': 'vish', 'Age': 21, ' College Name': 'AG'}, {'Name': 'vishal', 'Age': 20, ' College Name': 'AGCE'}, {'Name': 'vish', 'Age': 21, ' College Name': 'AG'}]\n"
     ]
    }
   ],
   "source": [
    "dict=[\n",
    "        {\"Name\":\"vishal\",\"Age\":20,\" College Name\":\"AGCE\"},\n",
    "        { \"Name\":\"vish\",\"Age\":21,\" College Name\":\"AG\"},\n",
    "        {\"Name\":\"vishal\",\"Age\":20,\" College Name\":\"AGCE\"},\n",
    "        { \"Name\":\"vish\",\"Age\":21,\" College Name\":\"AG\"}\n",
    "    ]\n",
    "\n",
    "\n",
    "\n",
    "print(dict)"
   ]
  },
  {
   "cell_type": "markdown",
   "id": "d288f908",
   "metadata": {},
   "source": [
    "3. Convert the above dictionary to pandas dataframe."
   ]
  },
  {
   "cell_type": "code",
   "execution_count": 3,
   "id": "22b61bed",
   "metadata": {},
   "outputs": [],
   "source": [
    "import pandas as pd"
   ]
  },
  {
   "cell_type": "code",
   "execution_count": 4,
   "id": "34fdf3c8",
   "metadata": {},
   "outputs": [
    {
     "data": {
      "text/html": [
       "<div>\n",
       "<style scoped>\n",
       "    .dataframe tbody tr th:only-of-type {\n",
       "        vertical-align: middle;\n",
       "    }\n",
       "\n",
       "    .dataframe tbody tr th {\n",
       "        vertical-align: top;\n",
       "    }\n",
       "\n",
       "    .dataframe thead th {\n",
       "        text-align: right;\n",
       "    }\n",
       "</style>\n",
       "<table border=\"1\" class=\"dataframe\">\n",
       "  <thead>\n",
       "    <tr style=\"text-align: right;\">\n",
       "      <th></th>\n",
       "      <th>Name</th>\n",
       "      <th>Age</th>\n",
       "      <th>College Name</th>\n",
       "    </tr>\n",
       "  </thead>\n",
       "  <tbody>\n",
       "    <tr>\n",
       "      <th>0</th>\n",
       "      <td>vishal</td>\n",
       "      <td>20</td>\n",
       "      <td>AGCE</td>\n",
       "    </tr>\n",
       "    <tr>\n",
       "      <th>1</th>\n",
       "      <td>vish</td>\n",
       "      <td>21</td>\n",
       "      <td>AG</td>\n",
       "    </tr>\n",
       "    <tr>\n",
       "      <th>2</th>\n",
       "      <td>vishal</td>\n",
       "      <td>20</td>\n",
       "      <td>AGCE</td>\n",
       "    </tr>\n",
       "    <tr>\n",
       "      <th>3</th>\n",
       "      <td>vish</td>\n",
       "      <td>21</td>\n",
       "      <td>AG</td>\n",
       "    </tr>\n",
       "  </tbody>\n",
       "</table>\n",
       "</div>"
      ],
      "text/plain": [
       "     Name  Age  College Name\n",
       "0  vishal   20          AGCE\n",
       "1    vish   21            AG\n",
       "2  vishal   20          AGCE\n",
       "3    vish   21            AG"
      ]
     },
     "execution_count": 4,
     "metadata": {},
     "output_type": "execute_result"
    }
   ],
   "source": [
    "df=pd.DataFrame(dict)\n",
    "df"
   ]
  },
  {
   "cell_type": "markdown",
   "id": "cc25a9bb",
   "metadata": {},
   "source": [
    "4. Write a program to perform write and read operation on a csv file. you can store the above dictionary in csv too"
   ]
  },
  {
   "cell_type": "code",
   "execution_count": 5,
   "id": "340c88e7",
   "metadata": {},
   "outputs": [
    {
     "data": {
      "text/html": [
       "<div>\n",
       "<style scoped>\n",
       "    .dataframe tbody tr th:only-of-type {\n",
       "        vertical-align: middle;\n",
       "    }\n",
       "\n",
       "    .dataframe tbody tr th {\n",
       "        vertical-align: top;\n",
       "    }\n",
       "\n",
       "    .dataframe thead th {\n",
       "        text-align: right;\n",
       "    }\n",
       "</style>\n",
       "<table border=\"1\" class=\"dataframe\">\n",
       "  <thead>\n",
       "    <tr style=\"text-align: right;\">\n",
       "      <th></th>\n",
       "      <th>Unnamed: 0</th>\n",
       "      <th>Name</th>\n",
       "      <th>Age</th>\n",
       "      <th>College Name</th>\n",
       "    </tr>\n",
       "  </thead>\n",
       "  <tbody>\n",
       "    <tr>\n",
       "      <th>0</th>\n",
       "      <td>0</td>\n",
       "      <td>vishal</td>\n",
       "      <td>20</td>\n",
       "      <td>AGCE</td>\n",
       "    </tr>\n",
       "    <tr>\n",
       "      <th>1</th>\n",
       "      <td>1</td>\n",
       "      <td>vish</td>\n",
       "      <td>21</td>\n",
       "      <td>AG</td>\n",
       "    </tr>\n",
       "    <tr>\n",
       "      <th>2</th>\n",
       "      <td>2</td>\n",
       "      <td>vishal</td>\n",
       "      <td>20</td>\n",
       "      <td>AGCE</td>\n",
       "    </tr>\n",
       "    <tr>\n",
       "      <th>3</th>\n",
       "      <td>3</td>\n",
       "      <td>vish</td>\n",
       "      <td>21</td>\n",
       "      <td>AG</td>\n",
       "    </tr>\n",
       "  </tbody>\n",
       "</table>\n",
       "</div>"
      ],
      "text/plain": [
       "   Unnamed: 0    Name  Age  College Name\n",
       "0           0  vishal   20          AGCE\n",
       "1           1    vish   21            AG\n",
       "2           2  vishal   20          AGCE\n",
       "3           3    vish   21            AG"
      ]
     },
     "execution_count": 5,
     "metadata": {},
     "output_type": "execute_result"
    }
   ],
   "source": [
    "df.to_csv(\"dict.csv\")\n",
    "df=pd.read_csv(\"dict.csv\")\n",
    "df"
   ]
  },
  {
   "cell_type": "markdown",
   "id": "b3f433fb",
   "metadata": {},
   "source": [
    "5. Write a program to find the most frequent character and count of appearing in a below Text:\n",
    "\n",
    "\tText : Data science is a field of finding pattern and insights in a particular set of data."
   ]
  },
  {
   "cell_type": "code",
   "execution_count": 6,
   "id": "e1cb4db7",
   "metadata": {},
   "outputs": [
    {
     "name": "stdout",
     "output_type": "stream",
     "text": [
      "most frequent character: a\n",
      "character count: 10\n"
     ]
    }
   ],
   "source": [
    "text=\"Data science is a field of finding pattern and insights in a particular set of data\"\n",
    "\n",
    "texts=text.lower()\n",
    "count=[]\n",
    "for i in texts:\n",
    "    count= texts.count(f\"{i}\")     \n",
    "print(\"most frequent character:\",i)        \n",
    "print(\"character count:\",count)"
   ]
  },
  {
   "cell_type": "markdown",
   "id": "d8cc19ed",
   "metadata": {},
   "source": [
    "6. Define and concatenate two lists. Give me 2 methods to do so. "
   ]
  },
  {
   "cell_type": "code",
   "execution_count": 7,
   "id": "e8c49f6a",
   "metadata": {},
   "outputs": [],
   "source": [
    "a=[1,3,4,5,6]\n",
    "b=[7,8,9,10,11]"
   ]
  },
  {
   "cell_type": "code",
   "execution_count": 8,
   "id": "f92ffa91",
   "metadata": {},
   "outputs": [
    {
     "name": "stdout",
     "output_type": "stream",
     "text": [
      "[1, 3, 4, 5, 6, 7, 8, 9, 10, 11]\n"
     ]
    }
   ],
   "source": [
    "# first method\n",
    "c=a+b\n",
    "print(c)"
   ]
  },
  {
   "cell_type": "code",
   "execution_count": 9,
   "id": "616077c1",
   "metadata": {},
   "outputs": [
    {
     "name": "stdout",
     "output_type": "stream",
     "text": [
      "[1, 3, 4, 5, 6, 7, 8, 9, 10, 11]\n"
     ]
    }
   ],
   "source": [
    "#second method\n",
    "a.extend(b)\n",
    "print(a)"
   ]
  },
  {
   "cell_type": "code",
   "execution_count": 10,
   "id": "b6c3072b",
   "metadata": {},
   "outputs": [
    {
     "name": "stdout",
     "output_type": "stream",
     "text": [
      "[1, 3, 4, 5, 6, 7, 8, 9, 10, 11, 7, 8, 9, 10, 11]\n"
     ]
    }
   ],
   "source": [
    "#thrid method\n",
    "for c in b:\n",
    "    a.append(c)\n",
    "print(a)"
   ]
  },
  {
   "cell_type": "markdown",
   "id": "227e28df",
   "metadata": {},
   "source": [
    "7. Create a simple calculator using python. Take 2 inputs from user. Note: Define functions for each operation"
   ]
  },
  {
   "cell_type": "code",
   "execution_count": 11,
   "id": "4a760986",
   "metadata": {},
   "outputs": [
    {
     "name": "stdout",
     "output_type": "stream",
     "text": [
      "Enter the value:5\n",
      "Enter the value:5\n",
      "Addition : 10.0\n",
      "Substraction: 0.0\n",
      "Multiplication: 25.0\n",
      "Division: 1.0\n"
     ]
    }
   ],
   "source": [
    "input_1=float(input(\"Enter the value:\"))\n",
    "input_2=float(input(\"Enter the value:\"))\n",
    "add=input_1+input_2\n",
    "sub=input_1 - input_2\n",
    "mul=input_1*input_2\n",
    "div=input_1/input_2\n",
    "print(\"Addition :\",add)\n",
    "print(\"Substraction:\",sub)\n",
    "print(\"Multiplication:\",mul)\n",
    "print(\"Division:\",div)"
   ]
  },
  {
   "cell_type": "markdown",
   "id": "1e6bd448",
   "metadata": {},
   "source": [
    ". Write a program to reads the age of three people and how many of them are of legal age (age 18 or older)."
   ]
  },
  {
   "cell_type": "code",
   "execution_count": null,
   "id": "1dc35f54",
   "metadata": {},
   "outputs": [],
   "source": [
    "age_1=int(input(\"enter the age:\"))\n",
    "age_2=int(input(\"enter the age:\"))\n",
    "age_3=int(input(\"enter the age:\"))\n",
    "if age_1>=18:\n",
    "    print(\"legal\")\n",
    "else:\n",
    "    print(\"illegal\")\n",
    "if age_2>=18:\n",
    "    print(\"legal\")\n",
    "else:\n",
    "    print(\"illegal\")\n",
    "if age_3>=18:\n",
    "    print(\"legal\")\n",
    "else:\n",
    "    print(\"illegal\")  "
   ]
  }
 ],
 "metadata": {
  "kernelspec": {
   "display_name": "Python 3 (ipykernel)",
   "language": "python",
   "name": "python3"
  },
  "language_info": {
   "codemirror_mode": {
    "name": "ipython",
    "version": 3
   },
   "file_extension": ".py",
   "mimetype": "text/x-python",
   "name": "python",
   "nbconvert_exporter": "python",
   "pygments_lexer": "ipython3",
   "version": "3.11.7"
  }
 },
 "nbformat": 4,
 "nbformat_minor": 5
}
